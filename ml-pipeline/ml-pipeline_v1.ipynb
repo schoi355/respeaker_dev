{
 "cells": [
  {
   "cell_type": "code",
   "execution_count": 3,
   "outputs": [],
   "source": [
    "import matplotlib.pyplot as plt\n",
    "import pandas as pd\n",
    "import json\n",
    "import os\n",
    "import torch\n",
    "from transformers import pipeline\n",
    "from collections import defaultdict\n",
    "from PIL import Image\n",
    "from wordcloud import WordCloud, STOPWORDS, ImageColorGenerator\n",
    "%matplotlib inline"
   ],
   "metadata": {
    "collapsed": false,
    "pycharm": {
     "name": "#%%\n"
    }
   }
  },
  {
   "cell_type": "code",
   "execution_count": 4,
   "outputs": [
    {
     "name": "stdout",
     "output_type": "stream",
     "text": [
      "C:\\Users\\Ayush\\OneDrive\\Documents\\Code\\DataSpell\\ReSpeaker\\data\\chunk_105.wav.json\n",
      "C:\\Users\\Ayush\\OneDrive\\Documents\\Code\\DataSpell\\ReSpeaker\\data\\chunk_120.wav.json\n",
      "C:\\Users\\Ayush\\OneDrive\\Documents\\Code\\DataSpell\\ReSpeaker\\data\\chunk_135.wav.json\n",
      "C:\\Users\\Ayush\\OneDrive\\Documents\\Code\\DataSpell\\ReSpeaker\\data\\chunk_15.wav.json\n",
      "C:\\Users\\Ayush\\OneDrive\\Documents\\Code\\DataSpell\\ReSpeaker\\data\\chunk_150.wav.json\n",
      "C:\\Users\\Ayush\\OneDrive\\Documents\\Code\\DataSpell\\ReSpeaker\\data\\chunk_165.wav.json\n",
      "C:\\Users\\Ayush\\OneDrive\\Documents\\Code\\DataSpell\\ReSpeaker\\data\\chunk_180.wav.json\n",
      "C:\\Users\\Ayush\\OneDrive\\Documents\\Code\\DataSpell\\ReSpeaker\\data\\chunk_195.wav.json\n",
      "C:\\Users\\Ayush\\OneDrive\\Documents\\Code\\DataSpell\\ReSpeaker\\data\\chunk_210.wav.json\n",
      "C:\\Users\\Ayush\\OneDrive\\Documents\\Code\\DataSpell\\ReSpeaker\\data\\chunk_225.wav.json\n",
      "C:\\Users\\Ayush\\OneDrive\\Documents\\Code\\DataSpell\\ReSpeaker\\data\\chunk_240.wav.json\n",
      "C:\\Users\\Ayush\\OneDrive\\Documents\\Code\\DataSpell\\ReSpeaker\\data\\chunk_255.wav.json\n",
      "C:\\Users\\Ayush\\OneDrive\\Documents\\Code\\DataSpell\\ReSpeaker\\data\\chunk_270.wav.json\n",
      "C:\\Users\\Ayush\\OneDrive\\Documents\\Code\\DataSpell\\ReSpeaker\\data\\chunk_285.wav.json\n",
      "C:\\Users\\Ayush\\OneDrive\\Documents\\Code\\DataSpell\\ReSpeaker\\data\\chunk_30.wav.json\n",
      "C:\\Users\\Ayush\\OneDrive\\Documents\\Code\\DataSpell\\ReSpeaker\\data\\chunk_300.wav.json\n",
      "C:\\Users\\Ayush\\OneDrive\\Documents\\Code\\DataSpell\\ReSpeaker\\data\\chunk_315.wav.json\n",
      "C:\\Users\\Ayush\\OneDrive\\Documents\\Code\\DataSpell\\ReSpeaker\\data\\chunk_330.wav.json\n",
      "C:\\Users\\Ayush\\OneDrive\\Documents\\Code\\DataSpell\\ReSpeaker\\data\\chunk_45.wav.json\n",
      "C:\\Users\\Ayush\\OneDrive\\Documents\\Code\\DataSpell\\ReSpeaker\\data\\chunk_60.wav.json\n"
     ]
    },
    {
     "ename": "KeyError",
     "evalue": "'speaker'",
     "output_type": "error",
     "traceback": [
      "\u001B[1;31m---------------------------------------------------------------------------\u001B[0m",
      "\u001B[1;31mKeyError\u001B[0m                                  Traceback (most recent call last)",
      "Input \u001B[1;32mIn [4]\u001B[0m, in \u001B[0;36m<cell line: 6>\u001B[1;34m()\u001B[0m\n\u001B[0;32m     15\u001B[0m speakers \u001B[38;5;241m=\u001B[39m defaultdict(\u001B[38;5;28;01mlambda\u001B[39;00m: \u001B[38;5;124m'\u001B[39m\u001B[38;5;124m'\u001B[39m)\n\u001B[0;32m     16\u001B[0m \u001B[38;5;28;01mfor\u001B[39;00m point \u001B[38;5;129;01min\u001B[39;00m data[\u001B[38;5;124m'\u001B[39m\u001B[38;5;124mtranscription\u001B[39m\u001B[38;5;124m'\u001B[39m]:\n\u001B[1;32m---> 17\u001B[0m     speakers[\u001B[43mpoint\u001B[49m\u001B[43m[\u001B[49m\u001B[38;5;124;43m'\u001B[39;49m\u001B[38;5;124;43mspeaker\u001B[39;49m\u001B[38;5;124;43m'\u001B[39;49m\u001B[43m]\u001B[49m] \u001B[38;5;241m+\u001B[39m\u001B[38;5;241m=\u001B[39m point[\u001B[38;5;124m'\u001B[39m\u001B[38;5;124mtext\u001B[39m\u001B[38;5;124m'\u001B[39m]\n\u001B[0;32m     20\u001B[0m \u001B[38;5;28;01mfor\u001B[39;00m k, val \u001B[38;5;129;01min\u001B[39;00m speakers\u001B[38;5;241m.\u001B[39mitems():\n\u001B[0;32m     21\u001B[0m     current_time \u001B[38;5;241m=\u001B[39m time\n",
      "\u001B[1;31mKeyError\u001B[0m: 'speaker'"
     ]
    }
   ],
   "source": [
    "folder = \"C:\\\\Users\\\\Ayush\\\\OneDrive\\\\Documents\\\\Code\\\\DataSpell\\\\ReSpeaker\\\\data\\\\\"\n",
    "time = pd.to_timedelta(0, unit='s')\n",
    "df = pd.DataFrame()\n",
    "snippet_dict = {'Timestamp_from': [], 'Timestamp_to': [], 'Text': [], 'Speaker': []}\n",
    "\n",
    "for filename in sorted( os.listdir(folder)):\n",
    "    if filename.endswith(\".wav.json\"):\n",
    "        file_path = os.path.join(folder, filename)\n",
    "        print(file_path)\n",
    "        # Read JSON file into a DataFrame\n",
    "        with open(file_path) as f:\n",
    "            data = json.load(f)\n",
    "            if not data['transcription']: continue\n",
    "\n",
    "            speakers = defaultdict(lambda: '')\n",
    "            for point in data['transcription']:\n",
    "                speakers[point['speaker']] += point['text']\n",
    "\n",
    "\n",
    "            for k, val in speakers.items():\n",
    "                current_time = time\n",
    "                snippet_dict['Timestamp_from'].append(current_time)\n",
    "                snippet_dict['Timestamp_to'].append(current_time + pd.to_timedelta(15, unit='s'))\n",
    "                snippet_dict['Text'].append(val)\n",
    "                snippet_dict['Speaker'].append(k)\n",
    "            time += pd.to_timedelta(15, unit='s')\n",
    "            speakers = defaultdict(lambda: '')\n",
    "\n",
    "\n",
    "    # Concatenate DataFrame with the main DataFrame\n",
    "    df = pd.DataFrame(snippet_dict)"
   ],
   "metadata": {
    "collapsed": false,
    "pycharm": {
     "name": "#%%\n"
    }
   }
  },
  {
   "cell_type": "code",
   "execution_count": 5,
   "outputs": [
    {
     "data": {
      "text/plain": "    Timestamp_from    Timestamp_to  \\\n0  0 days 00:00:00 0 days 00:00:15   \n1  0 days 00:00:15 0 days 00:00:30   \n2  0 days 00:00:15 0 days 00:00:30   \n3  0 days 00:00:30 0 days 00:00:45   \n4  0 days 00:00:30 0 days 00:00:45   \n5  0 days 00:00:30 0 days 00:00:45   \n6  0 days 00:00:45 0 days 00:01:00   \n7  0 days 00:01:00 0 days 00:01:15   \n8  0 days 00:01:15 0 days 00:01:30   \n9  0 days 00:01:15 0 days 00:01:30   \n10 0 days 00:01:30 0 days 00:01:45   \n11 0 days 00:01:45 0 days 00:02:00   \n12 0 days 00:01:45 0 days 00:02:00   \n13 0 days 00:02:00 0 days 00:02:15   \n14 0 days 00:02:00 0 days 00:02:15   \n15 0 days 00:02:15 0 days 00:02:30   \n16 0 days 00:02:15 0 days 00:02:30   \n17 0 days 00:02:30 0 days 00:02:45   \n18 0 days 00:02:30 0 days 00:02:45   \n19 0 days 00:02:30 0 days 00:02:45   \n20 0 days 00:02:45 0 days 00:03:00   \n21 0 days 00:03:00 0 days 00:03:15   \n22 0 days 00:03:00 0 days 00:03:15   \n23 0 days 00:03:15 0 days 00:03:30   \n24 0 days 00:03:15 0 days 00:03:30   \n25 0 days 00:03:30 0 days 00:03:45   \n26 0 days 00:03:30 0 days 00:03:45   \n27 0 days 00:03:45 0 days 00:04:00   \n28 0 days 00:03:45 0 days 00:04:00   \n29 0 days 00:04:00 0 days 00:04:15   \n30 0 days 00:04:00 0 days 00:04:15   \n31 0 days 00:04:15 0 days 00:04:30   \n32 0 days 00:04:15 0 days 00:04:30   \n33 0 days 00:04:30 0 days 00:04:45   \n34 0 days 00:04:30 0 days 00:04:45   \n\n                                                 Text  Speaker  \n0    because the inflammation of the vegetables I ...        1  \n1           advantage of having coming in the garden.        1  \n2    It's also possibly healthier, you know, less ...  unknown  \n3                                         better soil  unknown  \n4                          yeah that is okay yeah and        3  \n5    what do you think Kelly how do you think Kell...        1  \n6    that's okay yeah let's talk well um so let's ...        1  \n7    I actually have the same idea with Mike and a...        2  \n8                                      right oh right        2  \n9            we can yeah cuz we can teach kids how to        1  \n10   grow food and all the basic biologists and al...        1  \n11                         when we are working at the        1  \n12   good social thing, it brings the community to...  unknown  \n13   - Okay, so we can talk more about it. I mean,...  unknown  \n14   like, you know. - We have, what is that? 200 ...        1  \n15   That's fine. So what are some challenges to c...  unknown  \n16   I think, you know, it also can help us suppor...        3  \n17                big issues around it. >> Definitely        3  \n18                  how to buy a land. I mean, how to  unknown  \n19                     obtain the land that everybody        1  \n20   and join and we should purchase that land or ...        1  \n21   very visible to grow and and how to divide th...        1  \n22   yeah who who gets to grow there who decides yeah  unknown  \n23   that's that yeah a lot of decisions they make...        1  \n24   one important issues like how to maintain the...        2  \n25   But when was the last time that you get somet...        1  \n26   I brought some coral, some corn, some fried, ...        2  \n27   Normally people don't have a lot of knowledge...        2  \n28                           Yeah, it might be the...  unknown  \n29   certain plants grow better together like shar...        3  \n30   there are certain ones that work well and if ...  unknown  \n31                                       - All right.  unknown  \n32   That's that's the important part. Yeah, that ...        1  \n33   That's it. I bought this vegetables to make a...        2  \n34                      vegetables did you get? I got        1  ",
      "text/html": "<div>\n<style scoped>\n    .dataframe tbody tr th:only-of-type {\n        vertical-align: middle;\n    }\n\n    .dataframe tbody tr th {\n        vertical-align: top;\n    }\n\n    .dataframe thead th {\n        text-align: right;\n    }\n</style>\n<table border=\"1\" class=\"dataframe\">\n  <thead>\n    <tr style=\"text-align: right;\">\n      <th></th>\n      <th>Timestamp_from</th>\n      <th>Timestamp_to</th>\n      <th>Text</th>\n      <th>Speaker</th>\n    </tr>\n  </thead>\n  <tbody>\n    <tr>\n      <th>0</th>\n      <td>0 days 00:00:00</td>\n      <td>0 days 00:00:15</td>\n      <td>because the inflammation of the vegetables I ...</td>\n      <td>1</td>\n    </tr>\n    <tr>\n      <th>1</th>\n      <td>0 days 00:00:15</td>\n      <td>0 days 00:00:30</td>\n      <td>advantage of having coming in the garden.</td>\n      <td>1</td>\n    </tr>\n    <tr>\n      <th>2</th>\n      <td>0 days 00:00:15</td>\n      <td>0 days 00:00:30</td>\n      <td>It's also possibly healthier, you know, less ...</td>\n      <td>unknown</td>\n    </tr>\n    <tr>\n      <th>3</th>\n      <td>0 days 00:00:30</td>\n      <td>0 days 00:00:45</td>\n      <td>better soil</td>\n      <td>unknown</td>\n    </tr>\n    <tr>\n      <th>4</th>\n      <td>0 days 00:00:30</td>\n      <td>0 days 00:00:45</td>\n      <td>yeah that is okay yeah and</td>\n      <td>3</td>\n    </tr>\n    <tr>\n      <th>5</th>\n      <td>0 days 00:00:30</td>\n      <td>0 days 00:00:45</td>\n      <td>what do you think Kelly how do you think Kell...</td>\n      <td>1</td>\n    </tr>\n    <tr>\n      <th>6</th>\n      <td>0 days 00:00:45</td>\n      <td>0 days 00:01:00</td>\n      <td>that's okay yeah let's talk well um so let's ...</td>\n      <td>1</td>\n    </tr>\n    <tr>\n      <th>7</th>\n      <td>0 days 00:01:00</td>\n      <td>0 days 00:01:15</td>\n      <td>I actually have the same idea with Mike and a...</td>\n      <td>2</td>\n    </tr>\n    <tr>\n      <th>8</th>\n      <td>0 days 00:01:15</td>\n      <td>0 days 00:01:30</td>\n      <td>right oh right</td>\n      <td>2</td>\n    </tr>\n    <tr>\n      <th>9</th>\n      <td>0 days 00:01:15</td>\n      <td>0 days 00:01:30</td>\n      <td>we can yeah cuz we can teach kids how to</td>\n      <td>1</td>\n    </tr>\n    <tr>\n      <th>10</th>\n      <td>0 days 00:01:30</td>\n      <td>0 days 00:01:45</td>\n      <td>grow food and all the basic biologists and al...</td>\n      <td>1</td>\n    </tr>\n    <tr>\n      <th>11</th>\n      <td>0 days 00:01:45</td>\n      <td>0 days 00:02:00</td>\n      <td>when we are working at the</td>\n      <td>1</td>\n    </tr>\n    <tr>\n      <th>12</th>\n      <td>0 days 00:01:45</td>\n      <td>0 days 00:02:00</td>\n      <td>good social thing, it brings the community to...</td>\n      <td>unknown</td>\n    </tr>\n    <tr>\n      <th>13</th>\n      <td>0 days 00:02:00</td>\n      <td>0 days 00:02:15</td>\n      <td>- Okay, so we can talk more about it. I mean,...</td>\n      <td>unknown</td>\n    </tr>\n    <tr>\n      <th>14</th>\n      <td>0 days 00:02:00</td>\n      <td>0 days 00:02:15</td>\n      <td>like, you know. - We have, what is that? 200 ...</td>\n      <td>1</td>\n    </tr>\n    <tr>\n      <th>15</th>\n      <td>0 days 00:02:15</td>\n      <td>0 days 00:02:30</td>\n      <td>That's fine. So what are some challenges to c...</td>\n      <td>unknown</td>\n    </tr>\n    <tr>\n      <th>16</th>\n      <td>0 days 00:02:15</td>\n      <td>0 days 00:02:30</td>\n      <td>I think, you know, it also can help us suppor...</td>\n      <td>3</td>\n    </tr>\n    <tr>\n      <th>17</th>\n      <td>0 days 00:02:30</td>\n      <td>0 days 00:02:45</td>\n      <td>big issues around it. &gt;&gt; Definitely</td>\n      <td>3</td>\n    </tr>\n    <tr>\n      <th>18</th>\n      <td>0 days 00:02:30</td>\n      <td>0 days 00:02:45</td>\n      <td>how to buy a land. I mean, how to</td>\n      <td>unknown</td>\n    </tr>\n    <tr>\n      <th>19</th>\n      <td>0 days 00:02:30</td>\n      <td>0 days 00:02:45</td>\n      <td>obtain the land that everybody</td>\n      <td>1</td>\n    </tr>\n    <tr>\n      <th>20</th>\n      <td>0 days 00:02:45</td>\n      <td>0 days 00:03:00</td>\n      <td>and join and we should purchase that land or ...</td>\n      <td>1</td>\n    </tr>\n    <tr>\n      <th>21</th>\n      <td>0 days 00:03:00</td>\n      <td>0 days 00:03:15</td>\n      <td>very visible to grow and and how to divide th...</td>\n      <td>1</td>\n    </tr>\n    <tr>\n      <th>22</th>\n      <td>0 days 00:03:00</td>\n      <td>0 days 00:03:15</td>\n      <td>yeah who who gets to grow there who decides yeah</td>\n      <td>unknown</td>\n    </tr>\n    <tr>\n      <th>23</th>\n      <td>0 days 00:03:15</td>\n      <td>0 days 00:03:30</td>\n      <td>that's that yeah a lot of decisions they make...</td>\n      <td>1</td>\n    </tr>\n    <tr>\n      <th>24</th>\n      <td>0 days 00:03:15</td>\n      <td>0 days 00:03:30</td>\n      <td>one important issues like how to maintain the...</td>\n      <td>2</td>\n    </tr>\n    <tr>\n      <th>25</th>\n      <td>0 days 00:03:30</td>\n      <td>0 days 00:03:45</td>\n      <td>But when was the last time that you get somet...</td>\n      <td>1</td>\n    </tr>\n    <tr>\n      <th>26</th>\n      <td>0 days 00:03:30</td>\n      <td>0 days 00:03:45</td>\n      <td>I brought some coral, some corn, some fried, ...</td>\n      <td>2</td>\n    </tr>\n    <tr>\n      <th>27</th>\n      <td>0 days 00:03:45</td>\n      <td>0 days 00:04:00</td>\n      <td>Normally people don't have a lot of knowledge...</td>\n      <td>2</td>\n    </tr>\n    <tr>\n      <th>28</th>\n      <td>0 days 00:03:45</td>\n      <td>0 days 00:04:00</td>\n      <td>Yeah, it might be the...</td>\n      <td>unknown</td>\n    </tr>\n    <tr>\n      <th>29</th>\n      <td>0 days 00:04:00</td>\n      <td>0 days 00:04:15</td>\n      <td>certain plants grow better together like shar...</td>\n      <td>3</td>\n    </tr>\n    <tr>\n      <th>30</th>\n      <td>0 days 00:04:00</td>\n      <td>0 days 00:04:15</td>\n      <td>there are certain ones that work well and if ...</td>\n      <td>unknown</td>\n    </tr>\n    <tr>\n      <th>31</th>\n      <td>0 days 00:04:15</td>\n      <td>0 days 00:04:30</td>\n      <td>- All right.</td>\n      <td>unknown</td>\n    </tr>\n    <tr>\n      <th>32</th>\n      <td>0 days 00:04:15</td>\n      <td>0 days 00:04:30</td>\n      <td>That's that's the important part. Yeah, that ...</td>\n      <td>1</td>\n    </tr>\n    <tr>\n      <th>33</th>\n      <td>0 days 00:04:30</td>\n      <td>0 days 00:04:45</td>\n      <td>That's it. I bought this vegetables to make a...</td>\n      <td>2</td>\n    </tr>\n    <tr>\n      <th>34</th>\n      <td>0 days 00:04:30</td>\n      <td>0 days 00:04:45</td>\n      <td>vegetables did you get? I got</td>\n      <td>1</td>\n    </tr>\n  </tbody>\n</table>\n</div>"
     },
     "execution_count": 5,
     "metadata": {},
     "output_type": "execute_result"
    }
   ],
   "source": [
    "df"
   ],
   "metadata": {
    "collapsed": false,
    "pycharm": {
     "name": "#%%\n"
    }
   }
  },
  {
   "cell_type": "code",
   "execution_count": 6,
   "outputs": [
    {
     "data": {
      "text/plain": "1          15\nunknown    10\n2           6\n3           4\nName: Speaker, dtype: int64"
     },
     "execution_count": 6,
     "metadata": {},
     "output_type": "execute_result"
    }
   ],
   "source": [
    "df['Speaker'].value_counts()"
   ],
   "metadata": {
    "collapsed": false,
    "pycharm": {
     "name": "#%%\n"
    }
   }
  },
  {
   "cell_type": "markdown",
   "source": [
    "## Off-Topic Detection"
   ],
   "metadata": {
    "collapsed": false,
    "pycharm": {
     "name": "#%% md\n"
    }
   }
  },
  {
   "cell_type": "code",
   "execution_count": 7,
   "outputs": [],
   "source": [
    "bow = [\"Food swamp\", \"food system\", \"insecurity\", \"health\",  \"obese\", \"garden\", \"access\", \"urban\", \"poverty\", \"rural\",  \"low income\", \"middle income\", \"prices\", \"minority\", \"Sovereignty\", \"Local\", \"affordable\",\"Vegetable\", \"Meat\", \"Nutrition\", \"Grow\", \"Gather\", \"Grocery\", \"Agriculture\", \"Climate change\", \"Usda\", \"Food\", \"Policy\", \"plant\", \"environment\", \"greenhouse gas\", \"organic\"]"
   ],
   "metadata": {
    "collapsed": false,
    "pycharm": {
     "name": "#%%\n"
    }
   }
  },
  {
   "cell_type": "code",
   "execution_count": 8,
   "outputs": [
    {
     "data": {
      "text/plain": "'cuda'"
     },
     "execution_count": 8,
     "metadata": {},
     "output_type": "execute_result"
    }
   ],
   "source": [
    "device = 'cuda' if torch.cuda.is_available() else 'cpu'\n",
    "device"
   ],
   "metadata": {
    "collapsed": false,
    "pycharm": {
     "name": "#%%\n"
    }
   }
  },
  {
   "cell_type": "code",
   "execution_count": 9,
   "outputs": [
    {
     "data": {
      "text/plain": "<transformers.pipelines.zero_shot_classification.ZeroShotClassificationPipeline at 0x24eec2cf670>"
     },
     "execution_count": 9,
     "metadata": {},
     "output_type": "execute_result"
    }
   ],
   "source": [
    "classifier = pipeline(\"zero-shot-classification\", model=\"facebook/bart-large-mnli\", device=0)\n",
    "classifier"
   ],
   "metadata": {
    "collapsed": false,
    "pycharm": {
     "name": "#%%\n"
    }
   }
  },
  {
   "cell_type": "code",
   "execution_count": 10,
   "outputs": [],
   "source": [
    "def topic_detection(seq):\n",
    "    CI = 2.5\n",
    "    res = classifier(seq, bow, multi_label=True)\n",
    "    top_scores = sum(res['scores'][:5])\n",
    "    if top_scores > CI:\n",
    "        return 'On-Topic'\n",
    "    else:\n",
    "        return 'Off-Topic'"
   ],
   "metadata": {
    "collapsed": false,
    "pycharm": {
     "name": "#%%\n"
    }
   }
  },
  {
   "cell_type": "code",
   "execution_count": 40,
   "outputs": [
    {
     "name": "stderr",
     "output_type": "stream",
     "text": [
      "C:\\Users\\Ayush\\anaconda3\\envs\\deeplearning\\lib\\site-packages\\transformers\\pipelines\\base.py:1043: UserWarning: You seem to be using the pipelines sequentially on GPU. In order to maximize efficiency please use a dataset\n",
      "  warnings.warn(\n"
     ]
    },
    {
     "data": {
      "text/plain": "{'sequence': 'What do you get from your garden. They must be so organic',\n 'labels': ['garden',\n  'organic',\n  'food system',\n  'Grow',\n  'plant',\n  'Local',\n  'Agriculture',\n  'minority',\n  'Gather',\n  'access',\n  'Vegetable',\n  'Food',\n  'affordable',\n  'Usda',\n  'health',\n  'rural',\n  'environment',\n  'middle income',\n  'Nutrition',\n  'Sovereignty',\n  'Policy',\n  'low income',\n  'insecurity',\n  'prices',\n  'urban',\n  'obese',\n  'Grocery',\n  'Food swamp',\n  'poverty',\n  'greenhouse gas',\n  'Climate change',\n  'Meat'],\n 'scores': [0.9531105160713196,\n  0.8688297271728516,\n  0.5710130333900452,\n  0.5570509433746338,\n  0.4951624572277069,\n  0.4397076666355133,\n  0.4386795461177826,\n  0.4275165796279907,\n  0.3948313295841217,\n  0.38402312994003296,\n  0.3775178790092468,\n  0.34963735938072205,\n  0.2502947449684143,\n  0.21782396733760834,\n  0.1939563751220703,\n  0.1386394202709198,\n  0.1322818249464035,\n  0.06599542498588562,\n  0.054186344146728516,\n  0.05032666400074959,\n  0.0270405113697052,\n  0.02323003299534321,\n  0.01783127337694168,\n  0.00830839853733778,\n  0.007990775629878044,\n  0.0036025012377649546,\n  0.0003889181243721396,\n  0.0002836477942764759,\n  0.00026965158758684993,\n  0.00026384752709418535,\n  0.00016924741794355214,\n  9.132968261837959e-05]}"
     },
     "execution_count": 40,
     "metadata": {},
     "output_type": "execute_result"
    }
   ],
   "source": [
    "seq = 'What do you get from your garden. They must be so organic'\n",
    "res = classifier(seq, bow, multi_label=True)\n",
    "res"
   ],
   "metadata": {
    "collapsed": false,
    "pycharm": {
     "name": "#%%\n"
    }
   }
  },
  {
   "cell_type": "code",
   "execution_count": 11,
   "outputs": [
    {
     "name": "stderr",
     "output_type": "stream",
     "text": [
      "C:\\Users\\Ayush\\anaconda3\\envs\\deeplearning\\lib\\site-packages\\transformers\\pipelines\\base.py:1043: UserWarning: You seem to be using the pipelines sequentially on GPU. In order to maximize efficiency please use a dataset\n",
      "  warnings.warn(\n"
     ]
    },
    {
     "data": {
      "text/plain": "    Timestamp_from    Timestamp_to  \\\n0  0 days 00:00:00 0 days 00:00:15   \n1  0 days 00:00:15 0 days 00:00:30   \n2  0 days 00:00:15 0 days 00:00:30   \n3  0 days 00:00:30 0 days 00:00:45   \n4  0 days 00:00:30 0 days 00:00:45   \n5  0 days 00:00:30 0 days 00:00:45   \n6  0 days 00:00:45 0 days 00:01:00   \n7  0 days 00:01:00 0 days 00:01:15   \n8  0 days 00:01:15 0 days 00:01:30   \n9  0 days 00:01:15 0 days 00:01:30   \n10 0 days 00:01:30 0 days 00:01:45   \n11 0 days 00:01:45 0 days 00:02:00   \n12 0 days 00:01:45 0 days 00:02:00   \n13 0 days 00:02:00 0 days 00:02:15   \n14 0 days 00:02:00 0 days 00:02:15   \n15 0 days 00:02:15 0 days 00:02:30   \n16 0 days 00:02:15 0 days 00:02:30   \n17 0 days 00:02:30 0 days 00:02:45   \n18 0 days 00:02:30 0 days 00:02:45   \n19 0 days 00:02:30 0 days 00:02:45   \n20 0 days 00:02:45 0 days 00:03:00   \n21 0 days 00:03:00 0 days 00:03:15   \n22 0 days 00:03:00 0 days 00:03:15   \n23 0 days 00:03:15 0 days 00:03:30   \n24 0 days 00:03:15 0 days 00:03:30   \n25 0 days 00:03:30 0 days 00:03:45   \n26 0 days 00:03:30 0 days 00:03:45   \n27 0 days 00:03:45 0 days 00:04:00   \n28 0 days 00:03:45 0 days 00:04:00   \n29 0 days 00:04:00 0 days 00:04:15   \n30 0 days 00:04:00 0 days 00:04:15   \n31 0 days 00:04:15 0 days 00:04:30   \n32 0 days 00:04:15 0 days 00:04:30   \n33 0 days 00:04:30 0 days 00:04:45   \n34 0 days 00:04:30 0 days 00:04:45   \n\n                                                 Text  Speaker      Topic  \n0    because the inflammation of the vegetables I ...        1   On-Topic  \n1           advantage of having coming in the garden.        1   On-Topic  \n2    It's also possibly healthier, you know, less ...  unknown   On-Topic  \n3                                         better soil  unknown   On-Topic  \n4                          yeah that is okay yeah and        3   On-Topic  \n5    what do you think Kelly how do you think Kell...        1   On-Topic  \n6    that's okay yeah let's talk well um so let's ...        1   On-Topic  \n7    I actually have the same idea with Mike and a...        2   On-Topic  \n8                                      right oh right        2   On-Topic  \n9            we can yeah cuz we can teach kids how to        1   On-Topic  \n10   grow food and all the basic biologists and al...        1   On-Topic  \n11                         when we are working at the        1   On-Topic  \n12   good social thing, it brings the community to...  unknown   On-Topic  \n13   - Okay, so we can talk more about it. I mean,...  unknown   On-Topic  \n14   like, you know. - We have, what is that? 200 ...        1   On-Topic  \n15   That's fine. So what are some challenges to c...  unknown  Off-Topic  \n16   I think, you know, it also can help us suppor...        3   On-Topic  \n17                big issues around it. >> Definitely        3   On-Topic  \n18                  how to buy a land. I mean, how to  unknown   On-Topic  \n19                     obtain the land that everybody        1   On-Topic  \n20   and join and we should purchase that land or ...        1   On-Topic  \n21   very visible to grow and and how to divide th...        1   On-Topic  \n22   yeah who who gets to grow there who decides yeah  unknown   On-Topic  \n23   that's that yeah a lot of decisions they make...        1  Off-Topic  \n24   one important issues like how to maintain the...        2  Off-Topic  \n25   But when was the last time that you get somet...        1   On-Topic  \n26   I brought some coral, some corn, some fried, ...        2   On-Topic  \n27   Normally people don't have a lot of knowledge...        2   On-Topic  \n28                           Yeah, it might be the...  unknown   On-Topic  \n29   certain plants grow better together like shar...        3   On-Topic  \n30   there are certain ones that work well and if ...  unknown   On-Topic  \n31                                       - All right.  unknown   On-Topic  \n32   That's that's the important part. Yeah, that ...        1   On-Topic  \n33   That's it. I bought this vegetables to make a...        2   On-Topic  \n34                      vegetables did you get? I got        1   On-Topic  ",
      "text/html": "<div>\n<style scoped>\n    .dataframe tbody tr th:only-of-type {\n        vertical-align: middle;\n    }\n\n    .dataframe tbody tr th {\n        vertical-align: top;\n    }\n\n    .dataframe thead th {\n        text-align: right;\n    }\n</style>\n<table border=\"1\" class=\"dataframe\">\n  <thead>\n    <tr style=\"text-align: right;\">\n      <th></th>\n      <th>Timestamp_from</th>\n      <th>Timestamp_to</th>\n      <th>Text</th>\n      <th>Speaker</th>\n      <th>Topic</th>\n    </tr>\n  </thead>\n  <tbody>\n    <tr>\n      <th>0</th>\n      <td>0 days 00:00:00</td>\n      <td>0 days 00:00:15</td>\n      <td>because the inflammation of the vegetables I ...</td>\n      <td>1</td>\n      <td>On-Topic</td>\n    </tr>\n    <tr>\n      <th>1</th>\n      <td>0 days 00:00:15</td>\n      <td>0 days 00:00:30</td>\n      <td>advantage of having coming in the garden.</td>\n      <td>1</td>\n      <td>On-Topic</td>\n    </tr>\n    <tr>\n      <th>2</th>\n      <td>0 days 00:00:15</td>\n      <td>0 days 00:00:30</td>\n      <td>It's also possibly healthier, you know, less ...</td>\n      <td>unknown</td>\n      <td>On-Topic</td>\n    </tr>\n    <tr>\n      <th>3</th>\n      <td>0 days 00:00:30</td>\n      <td>0 days 00:00:45</td>\n      <td>better soil</td>\n      <td>unknown</td>\n      <td>On-Topic</td>\n    </tr>\n    <tr>\n      <th>4</th>\n      <td>0 days 00:00:30</td>\n      <td>0 days 00:00:45</td>\n      <td>yeah that is okay yeah and</td>\n      <td>3</td>\n      <td>On-Topic</td>\n    </tr>\n    <tr>\n      <th>5</th>\n      <td>0 days 00:00:30</td>\n      <td>0 days 00:00:45</td>\n      <td>what do you think Kelly how do you think Kell...</td>\n      <td>1</td>\n      <td>On-Topic</td>\n    </tr>\n    <tr>\n      <th>6</th>\n      <td>0 days 00:00:45</td>\n      <td>0 days 00:01:00</td>\n      <td>that's okay yeah let's talk well um so let's ...</td>\n      <td>1</td>\n      <td>On-Topic</td>\n    </tr>\n    <tr>\n      <th>7</th>\n      <td>0 days 00:01:00</td>\n      <td>0 days 00:01:15</td>\n      <td>I actually have the same idea with Mike and a...</td>\n      <td>2</td>\n      <td>On-Topic</td>\n    </tr>\n    <tr>\n      <th>8</th>\n      <td>0 days 00:01:15</td>\n      <td>0 days 00:01:30</td>\n      <td>right oh right</td>\n      <td>2</td>\n      <td>On-Topic</td>\n    </tr>\n    <tr>\n      <th>9</th>\n      <td>0 days 00:01:15</td>\n      <td>0 days 00:01:30</td>\n      <td>we can yeah cuz we can teach kids how to</td>\n      <td>1</td>\n      <td>On-Topic</td>\n    </tr>\n    <tr>\n      <th>10</th>\n      <td>0 days 00:01:30</td>\n      <td>0 days 00:01:45</td>\n      <td>grow food and all the basic biologists and al...</td>\n      <td>1</td>\n      <td>On-Topic</td>\n    </tr>\n    <tr>\n      <th>11</th>\n      <td>0 days 00:01:45</td>\n      <td>0 days 00:02:00</td>\n      <td>when we are working at the</td>\n      <td>1</td>\n      <td>On-Topic</td>\n    </tr>\n    <tr>\n      <th>12</th>\n      <td>0 days 00:01:45</td>\n      <td>0 days 00:02:00</td>\n      <td>good social thing, it brings the community to...</td>\n      <td>unknown</td>\n      <td>On-Topic</td>\n    </tr>\n    <tr>\n      <th>13</th>\n      <td>0 days 00:02:00</td>\n      <td>0 days 00:02:15</td>\n      <td>- Okay, so we can talk more about it. I mean,...</td>\n      <td>unknown</td>\n      <td>On-Topic</td>\n    </tr>\n    <tr>\n      <th>14</th>\n      <td>0 days 00:02:00</td>\n      <td>0 days 00:02:15</td>\n      <td>like, you know. - We have, what is that? 200 ...</td>\n      <td>1</td>\n      <td>On-Topic</td>\n    </tr>\n    <tr>\n      <th>15</th>\n      <td>0 days 00:02:15</td>\n      <td>0 days 00:02:30</td>\n      <td>That's fine. So what are some challenges to c...</td>\n      <td>unknown</td>\n      <td>Off-Topic</td>\n    </tr>\n    <tr>\n      <th>16</th>\n      <td>0 days 00:02:15</td>\n      <td>0 days 00:02:30</td>\n      <td>I think, you know, it also can help us suppor...</td>\n      <td>3</td>\n      <td>On-Topic</td>\n    </tr>\n    <tr>\n      <th>17</th>\n      <td>0 days 00:02:30</td>\n      <td>0 days 00:02:45</td>\n      <td>big issues around it. &gt;&gt; Definitely</td>\n      <td>3</td>\n      <td>On-Topic</td>\n    </tr>\n    <tr>\n      <th>18</th>\n      <td>0 days 00:02:30</td>\n      <td>0 days 00:02:45</td>\n      <td>how to buy a land. I mean, how to</td>\n      <td>unknown</td>\n      <td>On-Topic</td>\n    </tr>\n    <tr>\n      <th>19</th>\n      <td>0 days 00:02:30</td>\n      <td>0 days 00:02:45</td>\n      <td>obtain the land that everybody</td>\n      <td>1</td>\n      <td>On-Topic</td>\n    </tr>\n    <tr>\n      <th>20</th>\n      <td>0 days 00:02:45</td>\n      <td>0 days 00:03:00</td>\n      <td>and join and we should purchase that land or ...</td>\n      <td>1</td>\n      <td>On-Topic</td>\n    </tr>\n    <tr>\n      <th>21</th>\n      <td>0 days 00:03:00</td>\n      <td>0 days 00:03:15</td>\n      <td>very visible to grow and and how to divide th...</td>\n      <td>1</td>\n      <td>On-Topic</td>\n    </tr>\n    <tr>\n      <th>22</th>\n      <td>0 days 00:03:00</td>\n      <td>0 days 00:03:15</td>\n      <td>yeah who who gets to grow there who decides yeah</td>\n      <td>unknown</td>\n      <td>On-Topic</td>\n    </tr>\n    <tr>\n      <th>23</th>\n      <td>0 days 00:03:15</td>\n      <td>0 days 00:03:30</td>\n      <td>that's that yeah a lot of decisions they make...</td>\n      <td>1</td>\n      <td>Off-Topic</td>\n    </tr>\n    <tr>\n      <th>24</th>\n      <td>0 days 00:03:15</td>\n      <td>0 days 00:03:30</td>\n      <td>one important issues like how to maintain the...</td>\n      <td>2</td>\n      <td>Off-Topic</td>\n    </tr>\n    <tr>\n      <th>25</th>\n      <td>0 days 00:03:30</td>\n      <td>0 days 00:03:45</td>\n      <td>But when was the last time that you get somet...</td>\n      <td>1</td>\n      <td>On-Topic</td>\n    </tr>\n    <tr>\n      <th>26</th>\n      <td>0 days 00:03:30</td>\n      <td>0 days 00:03:45</td>\n      <td>I brought some coral, some corn, some fried, ...</td>\n      <td>2</td>\n      <td>On-Topic</td>\n    </tr>\n    <tr>\n      <th>27</th>\n      <td>0 days 00:03:45</td>\n      <td>0 days 00:04:00</td>\n      <td>Normally people don't have a lot of knowledge...</td>\n      <td>2</td>\n      <td>On-Topic</td>\n    </tr>\n    <tr>\n      <th>28</th>\n      <td>0 days 00:03:45</td>\n      <td>0 days 00:04:00</td>\n      <td>Yeah, it might be the...</td>\n      <td>unknown</td>\n      <td>On-Topic</td>\n    </tr>\n    <tr>\n      <th>29</th>\n      <td>0 days 00:04:00</td>\n      <td>0 days 00:04:15</td>\n      <td>certain plants grow better together like shar...</td>\n      <td>3</td>\n      <td>On-Topic</td>\n    </tr>\n    <tr>\n      <th>30</th>\n      <td>0 days 00:04:00</td>\n      <td>0 days 00:04:15</td>\n      <td>there are certain ones that work well and if ...</td>\n      <td>unknown</td>\n      <td>On-Topic</td>\n    </tr>\n    <tr>\n      <th>31</th>\n      <td>0 days 00:04:15</td>\n      <td>0 days 00:04:30</td>\n      <td>- All right.</td>\n      <td>unknown</td>\n      <td>On-Topic</td>\n    </tr>\n    <tr>\n      <th>32</th>\n      <td>0 days 00:04:15</td>\n      <td>0 days 00:04:30</td>\n      <td>That's that's the important part. Yeah, that ...</td>\n      <td>1</td>\n      <td>On-Topic</td>\n    </tr>\n    <tr>\n      <th>33</th>\n      <td>0 days 00:04:30</td>\n      <td>0 days 00:04:45</td>\n      <td>That's it. I bought this vegetables to make a...</td>\n      <td>2</td>\n      <td>On-Topic</td>\n    </tr>\n    <tr>\n      <th>34</th>\n      <td>0 days 00:04:30</td>\n      <td>0 days 00:04:45</td>\n      <td>vegetables did you get? I got</td>\n      <td>1</td>\n      <td>On-Topic</td>\n    </tr>\n  </tbody>\n</table>\n</div>"
     },
     "execution_count": 11,
     "metadata": {},
     "output_type": "execute_result"
    }
   ],
   "source": [
    "df['Topic'] = df['Text'].map(lambda seq: topic_detection(seq))\n",
    "df"
   ],
   "metadata": {
    "collapsed": false,
    "pycharm": {
     "name": "#%%\n"
    }
   }
  },
  {
   "cell_type": "markdown",
   "source": [
    "## Sentiment Analysis"
   ],
   "metadata": {
    "collapsed": false,
    "pycharm": {
     "name": "#%% md\n"
    }
   }
  },
  {
   "cell_type": "code",
   "execution_count": 12,
   "outputs": [
    {
     "data": {
      "text/plain": "Downloading (…)d-sentiments-student:   0%|          | 0.00/3.06k [00:00<?, ?B/s]",
      "application/vnd.jupyter.widget-view+json": {
       "version_major": 2,
       "version_minor": 0,
       "model_id": "ff25426304bf460596d38c806f6b20be"
      }
     },
     "metadata": {},
     "output_type": "display_data"
    },
    {
     "name": "stderr",
     "output_type": "stream",
     "text": [
      "C:\\Users\\Ayush\\anaconda3\\envs\\deeplearning\\lib\\site-packages\\transformers\\pipelines\\text_classification.py:89: UserWarning: `return_all_scores` is now deprecated,  if want a similar funcionality use `top_k=None` instead of `return_all_scores=True` or `top_k=1` instead of `return_all_scores=False`.\n",
      "  warnings.warn(\n"
     ]
    },
    {
     "data": {
      "text/plain": "<transformers.pipelines.text_classification.TextClassificationPipeline at 0x24efe83c2e0>"
     },
     "execution_count": 12,
     "metadata": {},
     "output_type": "execute_result"
    }
   ],
   "source": [
    "sentiment_classifier = pipeline(\n",
    "    model=\"lxyuan/distilbert-base-multilingual-cased-sentiments-student\",\n",
    "    return_all_scores=True\n",
    ")\n",
    "sentiment_classifier"
   ],
   "metadata": {
    "collapsed": false,
    "pycharm": {
     "name": "#%%\n"
    }
   }
  },
  {
   "cell_type": "code",
   "execution_count": 31,
   "outputs": [],
   "source": [
    "def sentiment_detection(seq):\n",
    "    res = sentiment_classifier(seq)[0]\n",
    "    ans = sorted(res, key=lambda x: x['score'], reverse=True)\n",
    "    return ans[0]['label']"
   ],
   "metadata": {
    "collapsed": false,
    "pycharm": {
     "name": "#%%\n"
    }
   }
  },
  {
   "cell_type": "code",
   "execution_count": 32,
   "outputs": [
    {
     "data": {
      "text/plain": "'positive'"
     },
     "execution_count": 32,
     "metadata": {},
     "output_type": "execute_result"
    }
   ],
   "source": [
    "sentiment_detection('I love the grocery store in Champaign.')"
   ],
   "metadata": {
    "collapsed": false,
    "pycharm": {
     "name": "#%%\n"
    }
   }
  },
  {
   "cell_type": "code",
   "execution_count": 33,
   "outputs": [
    {
     "data": {
      "text/plain": "'negative'"
     },
     "execution_count": 33,
     "metadata": {},
     "output_type": "execute_result"
    }
   ],
   "source": [
    "sentiment_detection('I hate the grocery stores here')"
   ],
   "metadata": {
    "collapsed": false,
    "pycharm": {
     "name": "#%%\n"
    }
   }
  },
  {
   "cell_type": "code",
   "execution_count": 41,
   "outputs": [
    {
     "data": {
      "text/plain": "    Timestamp_from    Timestamp_to  \\\n0  0 days 00:00:00 0 days 00:00:15   \n1  0 days 00:00:15 0 days 00:00:30   \n2  0 days 00:00:15 0 days 00:00:30   \n3  0 days 00:00:30 0 days 00:00:45   \n4  0 days 00:00:30 0 days 00:00:45   \n5  0 days 00:00:30 0 days 00:00:45   \n6  0 days 00:00:45 0 days 00:01:00   \n7  0 days 00:01:00 0 days 00:01:15   \n8  0 days 00:01:15 0 days 00:01:30   \n9  0 days 00:01:15 0 days 00:01:30   \n10 0 days 00:01:30 0 days 00:01:45   \n11 0 days 00:01:45 0 days 00:02:00   \n12 0 days 00:01:45 0 days 00:02:00   \n13 0 days 00:02:00 0 days 00:02:15   \n14 0 days 00:02:00 0 days 00:02:15   \n15 0 days 00:02:15 0 days 00:02:30   \n16 0 days 00:02:15 0 days 00:02:30   \n17 0 days 00:02:30 0 days 00:02:45   \n18 0 days 00:02:30 0 days 00:02:45   \n19 0 days 00:02:30 0 days 00:02:45   \n20 0 days 00:02:45 0 days 00:03:00   \n21 0 days 00:03:00 0 days 00:03:15   \n22 0 days 00:03:00 0 days 00:03:15   \n23 0 days 00:03:15 0 days 00:03:30   \n24 0 days 00:03:15 0 days 00:03:30   \n25 0 days 00:03:30 0 days 00:03:45   \n26 0 days 00:03:30 0 days 00:03:45   \n27 0 days 00:03:45 0 days 00:04:00   \n28 0 days 00:03:45 0 days 00:04:00   \n29 0 days 00:04:00 0 days 00:04:15   \n30 0 days 00:04:00 0 days 00:04:15   \n31 0 days 00:04:15 0 days 00:04:30   \n32 0 days 00:04:15 0 days 00:04:30   \n33 0 days 00:04:30 0 days 00:04:45   \n34 0 days 00:04:30 0 days 00:04:45   \n\n                                                 Text  Speaker      Topic  \\\n0    because the inflammation of the vegetables I ...        1   On-Topic   \n1           advantage of having coming in the garden.        1   On-Topic   \n2    It's also possibly healthier, you know, less ...  unknown   On-Topic   \n3                                         better soil  unknown   On-Topic   \n4                          yeah that is okay yeah and        3   On-Topic   \n5    what do you think Kelly how do you think Kell...        1   On-Topic   \n6    that's okay yeah let's talk well um so let's ...        1   On-Topic   \n7    I actually have the same idea with Mike and a...        2   On-Topic   \n8                                      right oh right        2   On-Topic   \n9            we can yeah cuz we can teach kids how to        1   On-Topic   \n10   grow food and all the basic biologists and al...        1   On-Topic   \n11                         when we are working at the        1   On-Topic   \n12   good social thing, it brings the community to...  unknown   On-Topic   \n13   - Okay, so we can talk more about it. I mean,...  unknown   On-Topic   \n14   like, you know. - We have, what is that? 200 ...        1   On-Topic   \n15   That's fine. So what are some challenges to c...  unknown  Off-Topic   \n16   I think, you know, it also can help us suppor...        3   On-Topic   \n17                big issues around it. >> Definitely        3   On-Topic   \n18                  how to buy a land. I mean, how to  unknown   On-Topic   \n19                     obtain the land that everybody        1   On-Topic   \n20   and join and we should purchase that land or ...        1   On-Topic   \n21   very visible to grow and and how to divide th...        1   On-Topic   \n22   yeah who who gets to grow there who decides yeah  unknown   On-Topic   \n23   that's that yeah a lot of decisions they make...        1  Off-Topic   \n24   one important issues like how to maintain the...        2  Off-Topic   \n25   But when was the last time that you get somet...        1   On-Topic   \n26   I brought some coral, some corn, some fried, ...        2   On-Topic   \n27   Normally people don't have a lot of knowledge...        2   On-Topic   \n28                           Yeah, it might be the...  unknown   On-Topic   \n29   certain plants grow better together like shar...        3   On-Topic   \n30   there are certain ones that work well and if ...  unknown   On-Topic   \n31                                       - All right.  unknown   On-Topic   \n32   That's that's the important part. Yeah, that ...        1   On-Topic   \n33   That's it. I bought this vegetables to make a...        2   On-Topic   \n34                      vegetables did you get? I got        1   On-Topic   \n\n   Sentiment  \n0   positive  \n1   positive  \n2   positive  \n3   positive  \n4   negative  \n5   positive  \n6   negative  \n7   positive  \n8   positive  \n9   positive  \n10  positive  \n11  positive  \n12  positive  \n13  positive  \n14  positive  \n15  positive  \n16  positive  \n17  positive  \n18  positive  \n19  positive  \n20  negative  \n21  positive  \n22  positive  \n23  negative  \n24  positive  \n25  negative  \n26  negative  \n27   neutral  \n28  positive  \n29  positive  \n30  negative  \n31  positive  \n32  negative  \n33  positive  \n34  positive  ",
      "text/html": "<div>\n<style scoped>\n    .dataframe tbody tr th:only-of-type {\n        vertical-align: middle;\n    }\n\n    .dataframe tbody tr th {\n        vertical-align: top;\n    }\n\n    .dataframe thead th {\n        text-align: right;\n    }\n</style>\n<table border=\"1\" class=\"dataframe\">\n  <thead>\n    <tr style=\"text-align: right;\">\n      <th></th>\n      <th>Timestamp_from</th>\n      <th>Timestamp_to</th>\n      <th>Text</th>\n      <th>Speaker</th>\n      <th>Topic</th>\n      <th>Sentiment</th>\n    </tr>\n  </thead>\n  <tbody>\n    <tr>\n      <th>0</th>\n      <td>0 days 00:00:00</td>\n      <td>0 days 00:00:15</td>\n      <td>because the inflammation of the vegetables I ...</td>\n      <td>1</td>\n      <td>On-Topic</td>\n      <td>positive</td>\n    </tr>\n    <tr>\n      <th>1</th>\n      <td>0 days 00:00:15</td>\n      <td>0 days 00:00:30</td>\n      <td>advantage of having coming in the garden.</td>\n      <td>1</td>\n      <td>On-Topic</td>\n      <td>positive</td>\n    </tr>\n    <tr>\n      <th>2</th>\n      <td>0 days 00:00:15</td>\n      <td>0 days 00:00:30</td>\n      <td>It's also possibly healthier, you know, less ...</td>\n      <td>unknown</td>\n      <td>On-Topic</td>\n      <td>positive</td>\n    </tr>\n    <tr>\n      <th>3</th>\n      <td>0 days 00:00:30</td>\n      <td>0 days 00:00:45</td>\n      <td>better soil</td>\n      <td>unknown</td>\n      <td>On-Topic</td>\n      <td>positive</td>\n    </tr>\n    <tr>\n      <th>4</th>\n      <td>0 days 00:00:30</td>\n      <td>0 days 00:00:45</td>\n      <td>yeah that is okay yeah and</td>\n      <td>3</td>\n      <td>On-Topic</td>\n      <td>negative</td>\n    </tr>\n    <tr>\n      <th>5</th>\n      <td>0 days 00:00:30</td>\n      <td>0 days 00:00:45</td>\n      <td>what do you think Kelly how do you think Kell...</td>\n      <td>1</td>\n      <td>On-Topic</td>\n      <td>positive</td>\n    </tr>\n    <tr>\n      <th>6</th>\n      <td>0 days 00:00:45</td>\n      <td>0 days 00:01:00</td>\n      <td>that's okay yeah let's talk well um so let's ...</td>\n      <td>1</td>\n      <td>On-Topic</td>\n      <td>negative</td>\n    </tr>\n    <tr>\n      <th>7</th>\n      <td>0 days 00:01:00</td>\n      <td>0 days 00:01:15</td>\n      <td>I actually have the same idea with Mike and a...</td>\n      <td>2</td>\n      <td>On-Topic</td>\n      <td>positive</td>\n    </tr>\n    <tr>\n      <th>8</th>\n      <td>0 days 00:01:15</td>\n      <td>0 days 00:01:30</td>\n      <td>right oh right</td>\n      <td>2</td>\n      <td>On-Topic</td>\n      <td>positive</td>\n    </tr>\n    <tr>\n      <th>9</th>\n      <td>0 days 00:01:15</td>\n      <td>0 days 00:01:30</td>\n      <td>we can yeah cuz we can teach kids how to</td>\n      <td>1</td>\n      <td>On-Topic</td>\n      <td>positive</td>\n    </tr>\n    <tr>\n      <th>10</th>\n      <td>0 days 00:01:30</td>\n      <td>0 days 00:01:45</td>\n      <td>grow food and all the basic biologists and al...</td>\n      <td>1</td>\n      <td>On-Topic</td>\n      <td>positive</td>\n    </tr>\n    <tr>\n      <th>11</th>\n      <td>0 days 00:01:45</td>\n      <td>0 days 00:02:00</td>\n      <td>when we are working at the</td>\n      <td>1</td>\n      <td>On-Topic</td>\n      <td>positive</td>\n    </tr>\n    <tr>\n      <th>12</th>\n      <td>0 days 00:01:45</td>\n      <td>0 days 00:02:00</td>\n      <td>good social thing, it brings the community to...</td>\n      <td>unknown</td>\n      <td>On-Topic</td>\n      <td>positive</td>\n    </tr>\n    <tr>\n      <th>13</th>\n      <td>0 days 00:02:00</td>\n      <td>0 days 00:02:15</td>\n      <td>- Okay, so we can talk more about it. I mean,...</td>\n      <td>unknown</td>\n      <td>On-Topic</td>\n      <td>positive</td>\n    </tr>\n    <tr>\n      <th>14</th>\n      <td>0 days 00:02:00</td>\n      <td>0 days 00:02:15</td>\n      <td>like, you know. - We have, what is that? 200 ...</td>\n      <td>1</td>\n      <td>On-Topic</td>\n      <td>positive</td>\n    </tr>\n    <tr>\n      <th>15</th>\n      <td>0 days 00:02:15</td>\n      <td>0 days 00:02:30</td>\n      <td>That's fine. So what are some challenges to c...</td>\n      <td>unknown</td>\n      <td>Off-Topic</td>\n      <td>positive</td>\n    </tr>\n    <tr>\n      <th>16</th>\n      <td>0 days 00:02:15</td>\n      <td>0 days 00:02:30</td>\n      <td>I think, you know, it also can help us suppor...</td>\n      <td>3</td>\n      <td>On-Topic</td>\n      <td>positive</td>\n    </tr>\n    <tr>\n      <th>17</th>\n      <td>0 days 00:02:30</td>\n      <td>0 days 00:02:45</td>\n      <td>big issues around it. &gt;&gt; Definitely</td>\n      <td>3</td>\n      <td>On-Topic</td>\n      <td>positive</td>\n    </tr>\n    <tr>\n      <th>18</th>\n      <td>0 days 00:02:30</td>\n      <td>0 days 00:02:45</td>\n      <td>how to buy a land. I mean, how to</td>\n      <td>unknown</td>\n      <td>On-Topic</td>\n      <td>positive</td>\n    </tr>\n    <tr>\n      <th>19</th>\n      <td>0 days 00:02:30</td>\n      <td>0 days 00:02:45</td>\n      <td>obtain the land that everybody</td>\n      <td>1</td>\n      <td>On-Topic</td>\n      <td>positive</td>\n    </tr>\n    <tr>\n      <th>20</th>\n      <td>0 days 00:02:45</td>\n      <td>0 days 00:03:00</td>\n      <td>and join and we should purchase that land or ...</td>\n      <td>1</td>\n      <td>On-Topic</td>\n      <td>negative</td>\n    </tr>\n    <tr>\n      <th>21</th>\n      <td>0 days 00:03:00</td>\n      <td>0 days 00:03:15</td>\n      <td>very visible to grow and and how to divide th...</td>\n      <td>1</td>\n      <td>On-Topic</td>\n      <td>positive</td>\n    </tr>\n    <tr>\n      <th>22</th>\n      <td>0 days 00:03:00</td>\n      <td>0 days 00:03:15</td>\n      <td>yeah who who gets to grow there who decides yeah</td>\n      <td>unknown</td>\n      <td>On-Topic</td>\n      <td>positive</td>\n    </tr>\n    <tr>\n      <th>23</th>\n      <td>0 days 00:03:15</td>\n      <td>0 days 00:03:30</td>\n      <td>that's that yeah a lot of decisions they make...</td>\n      <td>1</td>\n      <td>Off-Topic</td>\n      <td>negative</td>\n    </tr>\n    <tr>\n      <th>24</th>\n      <td>0 days 00:03:15</td>\n      <td>0 days 00:03:30</td>\n      <td>one important issues like how to maintain the...</td>\n      <td>2</td>\n      <td>Off-Topic</td>\n      <td>positive</td>\n    </tr>\n    <tr>\n      <th>25</th>\n      <td>0 days 00:03:30</td>\n      <td>0 days 00:03:45</td>\n      <td>But when was the last time that you get somet...</td>\n      <td>1</td>\n      <td>On-Topic</td>\n      <td>negative</td>\n    </tr>\n    <tr>\n      <th>26</th>\n      <td>0 days 00:03:30</td>\n      <td>0 days 00:03:45</td>\n      <td>I brought some coral, some corn, some fried, ...</td>\n      <td>2</td>\n      <td>On-Topic</td>\n      <td>negative</td>\n    </tr>\n    <tr>\n      <th>27</th>\n      <td>0 days 00:03:45</td>\n      <td>0 days 00:04:00</td>\n      <td>Normally people don't have a lot of knowledge...</td>\n      <td>2</td>\n      <td>On-Topic</td>\n      <td>neutral</td>\n    </tr>\n    <tr>\n      <th>28</th>\n      <td>0 days 00:03:45</td>\n      <td>0 days 00:04:00</td>\n      <td>Yeah, it might be the...</td>\n      <td>unknown</td>\n      <td>On-Topic</td>\n      <td>positive</td>\n    </tr>\n    <tr>\n      <th>29</th>\n      <td>0 days 00:04:00</td>\n      <td>0 days 00:04:15</td>\n      <td>certain plants grow better together like shar...</td>\n      <td>3</td>\n      <td>On-Topic</td>\n      <td>positive</td>\n    </tr>\n    <tr>\n      <th>30</th>\n      <td>0 days 00:04:00</td>\n      <td>0 days 00:04:15</td>\n      <td>there are certain ones that work well and if ...</td>\n      <td>unknown</td>\n      <td>On-Topic</td>\n      <td>negative</td>\n    </tr>\n    <tr>\n      <th>31</th>\n      <td>0 days 00:04:15</td>\n      <td>0 days 00:04:30</td>\n      <td>- All right.</td>\n      <td>unknown</td>\n      <td>On-Topic</td>\n      <td>positive</td>\n    </tr>\n    <tr>\n      <th>32</th>\n      <td>0 days 00:04:15</td>\n      <td>0 days 00:04:30</td>\n      <td>That's that's the important part. Yeah, that ...</td>\n      <td>1</td>\n      <td>On-Topic</td>\n      <td>negative</td>\n    </tr>\n    <tr>\n      <th>33</th>\n      <td>0 days 00:04:30</td>\n      <td>0 days 00:04:45</td>\n      <td>That's it. I bought this vegetables to make a...</td>\n      <td>2</td>\n      <td>On-Topic</td>\n      <td>positive</td>\n    </tr>\n    <tr>\n      <th>34</th>\n      <td>0 days 00:04:30</td>\n      <td>0 days 00:04:45</td>\n      <td>vegetables did you get? I got</td>\n      <td>1</td>\n      <td>On-Topic</td>\n      <td>positive</td>\n    </tr>\n  </tbody>\n</table>\n</div>"
     },
     "execution_count": 41,
     "metadata": {},
     "output_type": "execute_result"
    }
   ],
   "source": [
    "df['Sentiment'] = df['Text'].map(lambda x: sentiment_detection(x))\n",
    "df"
   ],
   "metadata": {
    "collapsed": false,
    "pycharm": {
     "name": "#%%\n"
    }
   }
  },
  {
   "cell_type": "markdown",
   "source": [
    "## WordCloud"
   ],
   "metadata": {
    "collapsed": false,
    "pycharm": {
     "name": "#%% md\n"
    }
   }
  },
  {
   "cell_type": "code",
   "execution_count": 15,
   "outputs": [
    {
     "data": {
      "text/plain": "\" because the inflammation of the vegetables I think make it affordable for the groceries because yeah they can get food from free for free so it's still it's another advantage of having coming in the garden. what do you think Kelly how do you think Kelly um that's okay yeah let's talk well um so let's go back to community garden um what do you usually get what? we can yeah cuz we can teach kids how to grow food and all the basic biologists and also we can hang out with people in the garden. when we are working at the like, you know. - We have, what is that? 200 seconds - Sure. obtain the land that everybody and join and we should purchase that land or I don't know how the real estate going. But and that is one of the challenges and also, but there's a couple of weeks ago and because Because everybody has their... very visible to grow and and how to divide the land like by houses like by the yeah right right that's that yeah a lot of decisions they make and what else I think But when was the last time that you get something from grocery store Kelly? That's that's the important part. Yeah, that yeah, if somebody is just a wake up all the morning and just take all of them and it's it's it's bad. Right. vegetables did you get? I got\""
     },
     "execution_count": 15,
     "metadata": {},
     "output_type": "execute_result"
    }
   ],
   "source": [
    "speaker_1 = ''.join(list(df[df['Speaker'] == '1']['Text']))\n",
    "speaker_1"
   ],
   "metadata": {
    "collapsed": false,
    "pycharm": {
     "name": "#%%\n"
    }
   }
  },
  {
   "cell_type": "code",
   "execution_count": null,
   "outputs": [],
   "source": [
    "wc = WordCloud(font_path='C:\\\\Users\\\\Ayush\\\\Downloads\\\\raleway\\\\Raleway-Black.ttf').generate(speaker_1)\n",
    "plt.imshow(wc)\n",
    "plt.show()"
   ],
   "metadata": {
    "collapsed": false,
    "pycharm": {
     "name": "#%%\n"
    }
   }
  },
  {
   "cell_type": "code",
   "execution_count": null,
   "outputs": [],
   "source": [],
   "metadata": {
    "collapsed": false,
    "pycharm": {
     "name": "#%%\n"
    }
   }
  }
 ],
 "metadata": {
  "kernelspec": {
   "display_name": "Python 3",
   "language": "python",
   "name": "python3"
  },
  "language_info": {
   "codemirror_mode": {
    "name": "ipython",
    "version": 2
   },
   "file_extension": ".py",
   "mimetype": "text/x-python",
   "name": "python",
   "nbconvert_exporter": "python",
   "pygments_lexer": "ipython2",
   "version": "2.7.6"
  }
 },
 "nbformat": 4,
 "nbformat_minor": 0
}